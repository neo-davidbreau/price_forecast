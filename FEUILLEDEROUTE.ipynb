{
 "cells": [
  {
   "cell_type": "markdown",
   "metadata": {},
   "source": [
    "Liste des étapes :  \n",
    "`jira & synchroniser`  \n",
    "  faire mlflow  \n",
    "  factoriser  \n",
    "  creer la base de données + pour le suivi  \n",
    "  faire l'api  \n",
    "\n",
    "    "
   ]
  }
 ],
 "metadata": {
  "language_info": {
   "name": "python"
  }
 },
 "nbformat": 4,
 "nbformat_minor": 2
}
